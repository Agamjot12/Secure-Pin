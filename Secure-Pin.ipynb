{
  "cells": [
    {
      "cell_type": "markdown",
      "metadata": {
        "id": "BkgkO2HQlNpp"
      },
      "source": [
        "### Agamjot Singh\n",
        "### agamjotworks@gmail.com"
      ]
    },
    {
      "cell_type": "markdown",
      "metadata": {
        "id": "ZWgDZal1lIaq"
      },
      "source": [
        "## import libraries"
      ]
    },
    {
      "cell_type": "code",
      "execution_count": 158,
      "metadata": {
        "id": "SEof441N8tH0"
      },
      "outputs": [],
      "source": [
        "import csv\n",
        "import itertools\n",
        "from itertools import product"
      ]
    },
    {
      "cell_type": "markdown",
      "metadata": {
        "id": "IKHjF2tb5fj-"
      },
      "source": [
        "## creating a csv file containg top 100 common mpins"
      ]
    },
    {
      "cell_type": "code",
      "execution_count": 159,
      "metadata": {
        "colab": {
          "base_uri": "https://localhost:8080/"
        },
        "id": "giPIhHv10g9s",
        "outputId": "24b2556f-05b0-49a3-d498-62abca4bf8ef"
      },
      "outputs": [
        {
          "name": "stdout",
          "output_type": "stream",
          "text": [
            "CSV file created with the top 100 commonly used 4-digit PINs.\n"
          ]
        }
      ],
      "source": [
        "# Top 100 most common 4-digit PINs\n",
        "common_pins = [\n",
        "    '1234', '1111', '0000', '1212', '7777', '1004', '2000', '4444',\n",
        "    '2222', '6969', '9999', '3333', '5555', '6666', '1122', '1313',\n",
        "    '8888', '4321', '2001', '1010', '2580', '6543', '0852', '5678',\n",
        "    '1357', '2468', '1998', '5432', '6789', '7890', '1980', '1397',\n",
        "    '1999', '1472', '2584', '4567', '2589', '5556', '5959', '9191',\n",
        "    '5043', '9988', '0007', '1066', '1030', '0025', '7410', '0853',\n",
        "    '5115', '1235', '1969', '1967', '5252', '1239', '1997', '8887',\n",
        "    '1996', '1994', '1978', '1977', '1976', '3456', '1974', '1973',\n",
        "    '1972', '1971', '1970', '1968', '1966', '1965', '1964', '1963',\n",
        "    '1962', '1961', '1960', '1959', '1958', '1957', '1956', '1955',\n",
        "    '1954', '1953', '1952', '1951', '1950', '1949', '1948', '1947',\n",
        "    '1946', '1945', '1944', '1943', '1942', '1941', '1940', '1939',\n",
        "    '1938', '1937', '1936', '1935', '1934', '1933', '1932', '1931',\n",
        "    '1930', '1929', '1928', '1927', '1926', '1925', '1924', '1923'\n",
        "]\n",
        "\n",
        "# Write the PINs to a CSV file\n",
        "with open('common_pins.csv', 'w', newline='') as file:\n",
        "    writer = csv.writer(file)\n",
        "    writer.writerow(['PIN'])  # Column header\n",
        "    for pin in common_pins:\n",
        "        writer.writerow([pin])\n",
        "\n",
        "print('CSV file created with the top 100 commonly used 4-digit PINs.')"
      ]
    },
    {
      "cell_type": "markdown",
      "metadata": {
        "id": "RZ3qwmK06Y8Z"
      },
      "source": [
        "# Solutions"
      ]
    },
    {
      "cell_type": "markdown",
      "metadata": {
        "id": "PWPk0k4T6Pfp"
      },
      "source": [
        "## Part A"
      ]
    },
    {
      "cell_type": "code",
      "execution_count": 160,
      "metadata": {
        "colab": {
          "base_uri": "https://localhost:8080/"
        },
        "id": "3YyGB_kd0Z_Y",
        "outputId": "3e08c2b6-4af8-48c8-e816-c59dbf7801b7"
      },
      "outputs": [
        {
          "name": "stdout",
          "output_type": "stream",
          "text": [
            "Enter 4-digit MPIN: 7890\n"
          ]
        }
      ],
      "source": [
        "# Input 4-digit MPIN\n",
        "mpin = input(\"Enter 4-digit MPIN: \")"
      ]
    },
    {
      "cell_type": "code",
      "execution_count": 161,
      "metadata": {
        "colab": {
          "base_uri": "https://localhost:8080/"
        },
        "id": "ireNy1je5v0S",
        "outputId": "dc23940f-6189-44fb-ab68-5d6b31445df7"
      },
      "outputs": [
        {
          "name": "stdout",
          "output_type": "stream",
          "text": [
            "This is a common MPIN. Please choose a more secure one.\n"
          ]
        }
      ],
      "source": [
        "# Check if the input is exactly 4 digits\n",
        "if len(mpin) == 4 and mpin.isdigit():\n",
        "    # Read the file with commonly used MPINs\n",
        "    with open(\"/content/common_pins.csv\", \"r\") as file:\n",
        "        common_mpins = [line.split()[0] for line in file]\n",
        "\n",
        "    # Check if the entered MPIN is common\n",
        "    if mpin in common_mpins:\n",
        "        print(\"This is a common MPIN. Please choose a more secure one.\")\n",
        "    else:\n",
        "        print(\"MPIN accepted. It is not a common MPIN.\")\n",
        "else:\n",
        "    print(\"Invalid MPIN. Please enter exactly 4 digits.\")"
      ]
    },
    {
      "cell_type": "markdown",
      "metadata": {
        "id": "_lMFPynnlhu5"
      },
      "source": [
        "## Part B & C (final)"
      ]
    },
    {
      "cell_type": "code",
      "execution_count": 192,
      "metadata": {
        "id": "hmMEUG7_oZCy"
      },
      "outputs": [],
      "source": [
        "def separate(obj):\n",
        " var1 = obj[0:4] + obj[6:]\n",
        " var2 = obj[4:]\n",
        " return (var1,var2)"
      ]
    },
    {
      "cell_type": "code",
      "execution_count": 193,
      "metadata": {
        "id": "BZrQ9kgIo7jz"
      },
      "outputs": [],
      "source": [
        "def double_digits(obj):\n",
        "  obj1 = [obj[i:i + 2] for i in range(0, len(obj), 2)]\n",
        "  return obj1"
      ]
    },
    {
      "cell_type": "code",
      "execution_count": 194,
      "metadata": {
        "id": "x6YzT-RorIHt"
      },
      "outputs": [],
      "source": [
        "def perm_for_4_digits(obj):\n",
        "  obj1 = [f\"{int(''.join(p)):04d}\" for p in product(obj, repeat=2)]\n",
        "  return obj1"
      ]
    },
    {
      "cell_type": "code",
      "execution_count": 224,
      "metadata": {
        "id": "auwG_qYzSA9M"
      },
      "outputs": [],
      "source": [
        "def solve4(dob_1,anni,sp,mpin):\n",
        "\n",
        "  dob, dob2 = separate(dob_1)\n",
        "  anniversary, anni2 = separate(anni)\n",
        "  spouse_birthday, sp2 = separate(sp)\n",
        "\n",
        "\n",
        "  # Step 2: Create double-digit numbers\n",
        "  dob_digits = double_digits(dob)\n",
        "  anniversary_digits = double_digits(anniversary)\n",
        "  spouse_digits = double_digits(spouse_birthday)\n",
        "\n",
        "\n",
        "  # Step 3: Create all 4-digit combinations\n",
        "  dob_combinations = perm_for_4_digits(dob_digits)\n",
        "  anniversary_combinations = perm_for_4_digits(anniversary_digits)\n",
        "  spouse_combinations = perm_for_4_digits(spouse_digits)\n",
        "\n",
        "  # predicting result\n",
        "  found = True\n",
        "  reason = \"\"\n",
        "\n",
        "  # checking if mpin is present in commonly used\n",
        "  for pin in common_pins:\n",
        "        if pin in mpin[:4] or pin in mpin[-4:]:\n",
        "          found = False\n",
        "          reason = \"COMMONLY_USED\"\n",
        "\n",
        "  # checking directly if year is present\n",
        "  if dob2 in mpin:\n",
        "      found = False\n",
        "      reason = \"DEMOGRAPHIC_DOB_SELF\"\n",
        "  elif anni2 in mpin:\n",
        "      found = False\n",
        "      reason = \"DEMOGRAPHIC_ANNIVERSARY\"\n",
        "  elif sp in mpin:\n",
        "      found = False\n",
        "      reason = \"DEMOGRAPHIC_DOB_SPOUSE\"\n",
        "\n",
        "  # checking across all permutations\n",
        "  elif mpin in dob_combinations:\n",
        "      found = False\n",
        "      reason = \"DEMOGRAPHIC_DOB_SELF\"\n",
        "  elif mpin in anniversary_combinations:\n",
        "      found = False\n",
        "      reason = \"DEMOGRAPHIC_ANNIVERSARY\"\n",
        "  elif mpin in spouse_combinations:\n",
        "      found = False\n",
        "      reason = \"DEMOGRAPHIC_DOB_SPOUSE\"\n",
        "\n",
        "  # degubbing\n",
        "  # Print result\n",
        "  # if not found:\n",
        "  #     print(\"strength = weak\")\n",
        "  #     print(\"reason:\", reason)\n",
        "  # else:\n",
        "  #     print(\"strength = strong\")\n",
        "  #     print(\"reason: empty array\")\n",
        "\n",
        "  if found :\n",
        "    return \"Strong\",reason\n",
        "  else :\n",
        "    return \"Weak\",reason\n"
      ]
    },
    {
      "cell_type": "markdown",
      "metadata": {
        "id": "FyAOByCIlvKo"
      },
      "source": [
        "## Part E"
      ]
    },
    {
      "cell_type": "code",
      "execution_count": 209,
      "metadata": {
        "id": "c1POPTISr7j_"
      },
      "outputs": [],
      "source": [
        "def perm_for_6_digits(obj):\n",
        "  obj1 = [f\"{int(''.join(p)):06d}\" for p in product(obj, repeat=3)]\n",
        "  return obj1"
      ]
    },
    {
      "cell_type": "code",
      "execution_count": 216,
      "metadata": {
        "id": "qI_Ywqv7SA6j"
      },
      "outputs": [],
      "source": [
        "def solve6(dob_1,anni,sp,mpin):\n",
        "\n",
        "  dob, dob2 = separate(dob_1)\n",
        "  anniversary, anni2 = separate(anni)\n",
        "  spouse_birthday, sp2 = separate(sp)\n",
        "\n",
        "  # Step 2: Create double-digit numbers\n",
        "  dob_digits = double_digits(dob)\n",
        "  anniversary_digits = double_digits(anniversary)\n",
        "  spouse_digits = double_digits(spouse_birthday)\n",
        "\n",
        "  # Step 3: Create all 6-digit combinations\n",
        "  dob_combinations = perm_for_6_digits(dob_digits)\n",
        "  anniversary_combinations = perm_for_6_digits(anniversary_digits)\n",
        "  spouse_combinations = perm_for_6_digits(spouse_digits)\n",
        "\n",
        "  # predicting result\n",
        "  found = True\n",
        "  reason = \"\"\n",
        "\n",
        "  # checking if mpin is present in commonly used\n",
        "  for pin in common_pins:\n",
        "        if pin in mpin[:4] or pin in mpin[-4:]:\n",
        "          found = False\n",
        "          reason = \"COMMONLY_USED\"\n",
        "\n",
        "  # checking directly if year is present\n",
        "  if dob2 in mpin[:4] or pin in mpin[-4:]:\n",
        "      found = False\n",
        "      reason = \"DEMOGRAPHIC_DOB_SELF\"\n",
        "  elif anni2 in mpin[:4] or pin in mpin[-4:]:\n",
        "      found = False\n",
        "      reason = \"DEMOGRAPHIC_ANNIVERSARY\"\n",
        "  elif sp in mpin[:4] or pin in mpin[-4:]:\n",
        "      found = False\n",
        "      reason = \"DEMOGRAPHIC_DOB_SPOUSE\"\n",
        "\n",
        "  # checking accross all permutations\n",
        "  elif mpin in dob_combinations:\n",
        "      found = False\n",
        "      reason = \"DEMOGRAPHIC_DOB_SELF\"\n",
        "  elif mpin in anniversary_combinations:\n",
        "      found = False\n",
        "      reason = \"DEMOGRAPHIC_ANNIVERSARY\"\n",
        "  elif mpin in spouse_combinations:\n",
        "      found = False\n",
        "      reason = \"DEMOGRAPHIC_DOB_SPOUSE\"\n",
        "\n",
        "  # degubbing\n",
        "  # Print result\n",
        "  # if not found:\n",
        "  #     print(\"strength = weak\")\n",
        "  #     print(\"reason:\", reason)\n",
        "  # else:\n",
        "  #     print(\"strength = strong\")\n",
        "  #     print(\"reason: empty array\")\n",
        "\n",
        "  if found :\n",
        "    return \"Strong\",reason\n",
        "  else :\n",
        "    return \"Weak\",reason\n"
      ]
    },
    {
      "cell_type": "markdown",
      "metadata": {
        "id": "arJ94eHvzFip"
      },
      "source": [
        "## Test Cases"
      ]
    },
    {
      "cell_type": "code",
      "execution_count": 228,
      "metadata": {
        "colab": {
          "base_uri": "https://localhost:8080/"
        },
        "id": "ONbydKzDNxZQ",
        "outputId": "748b866e-5947-4444-e16c-15c6c3c0efb0"
      },
      "outputs": [
        {
          "name": "stdout",
          "output_type": "stream",
          "text": [
            "PASS\n",
            "PASS\n",
            "PASS\n",
            "PASS\n",
            "PASS\n",
            "PASS\n",
            "PASS\n",
            "PASS\n",
            "PASS\n",
            "PASS\n",
            "PASS\n",
            "PASS\n",
            "PASS\n",
            "PASS\n",
            "PASS\n",
            "PASS\n",
            "PASS\n",
            "PASS\n",
            "PASS\n",
            "PASS\n"
          ]
        }
      ],
      "source": [
        "def main():\n",
        "    # Sample test cases\n",
        "    test_cases = [\n",
        "        (\"0112002\", \"13012002\", \"14012002\", \"0220\", \"Strong\", \"\"),\n",
        "        (\"11051995\", \"15062020\", \"25071996\", \"5678\", \"Weak\", \"COMMONLY_USED\"),\n",
        "        (\"01012000\", \"02022002\", \"03032003\", \"3782\", \"Strong\", \"\"),\n",
        "        (\"25051990\", \"12052015\", \"18062018\", \"0000\", \"Weak\", \"COMMONLY_USED\"),\n",
        "        (\"07071988\", \"15062010\", \"22071992\", \"0707\", \"Weak\", \"DEMOGRAPHIC_DOB_SELF\"),\n",
        "        (\"04061991\", \"17072020\", \"22121989\", \"1330\", \"Strong\", \"\"),\n",
        "        (\"28022005\", \"15052015\", \"31101998\", \"4321\", \"Weak\", \"COMMONLY_USED\"),\n",
        "        (\"10101995\", \"08082008\", \"19121985\", \"8008\", \"Strong\", \"\"),\n",
        "        (\"01011980\", \"05052010\", \"10012015\", \"2010\", \"Weak\",\"DEMOGRAPHIC_ANNIVERSARY\" ),\n",
        "        (\"15102000\", \"26072005\", \"22121990\", \"502091\", \"Strong\", \"\"),\n",
        "        (\"23061992\", \"09092018\", \"12101996\", \"111111\", \"Weak\", \"COMMONLY_USED\"),\n",
        "        (\"17121985\", \"24072020\", \"14011988\", \"074213\", \"Strong\", \"\"),\n",
        "        (\"18051994\", \"07062007\", \"18111996\", \"998917\", \"Strong\", \"\"),\n",
        "        (\"12122001\", \"30122015\", \"15071999\", \"159907\", \"Weak\", \"DEMOGRAPHIC_DOB_SPOUSE\"),\n",
        "        (\"01052010\", \"25121985\", \"06062020\", \"000300\", \"Strong\", \"\"),\n",
        "        (\"20031999\", \"04042010\", \"27081988\", \"421089\", \"Strong\", \"\"),\n",
        "        (\"03071996\", \"12022015\", \"22111991\", \"700331\", \"Strong\", \"\"),\n",
        "        (\"15061988\", \"01012001\", \"25062020\", \"345662\", \"Weak\", \"COMMONLY_USED\"),\n",
        "        (\"19051999\", \"08082008\", \"15101995\", \"995091\", \"Strong\", \"\"),\n",
        "        (\"07031992\", \"27052015\", \"21111989\", \"678907\", \"Weak\", \"COMMONLY_USED\"),\n",
        "        # Add more sample test cases as needed\n",
        "    ]\n",
        "\n",
        "    for test_case in test_cases:\n",
        "        dob_1, anni, sp, mpin, expected , proper_reason = test_case\n",
        "\n",
        "        if len(mpin) == 4:\n",
        "            result,result2 = solve4(dob_1, anni, sp, mpin)\n",
        "        elif len(mpin) == 6:\n",
        "            result,result2 = solve6(dob_1, anni, sp, mpin)\n",
        "        else:\n",
        "            print(\"Enter correct MPIN length\")\n",
        "            continue\n",
        "\n",
        "        # Check if the result matches the expected value\n",
        "        if result == expected and result2 == proper_reason :\n",
        "            print(\"PASS\")\n",
        "        else:\n",
        "            print(\"FAIL\")\n",
        "\n",
        "if __name__ == \"__main__\":\n",
        "    main()"
      ]
    }
  ],
  "metadata": {
    "colab": {
      "provenance": []
    },
    "kernelspec": {
      "display_name": "Python 3",
      "name": "python3"
    },
    "language_info": {
      "name": "python"
    }
  },
  "nbformat": 4,
  "nbformat_minor": 0
}
